{
 "cells": [
  {
   "cell_type": "code",
   "execution_count": 1,
   "id": "d2cebdf9-d323-4ae5-b7d1-b56484cc2e0e",
   "metadata": {
    "execution": {
     "iopub.execute_input": "2024-02-25T05:56:32.887762Z",
     "iopub.status.busy": "2024-02-25T05:56:32.887403Z",
     "iopub.status.idle": "2024-02-25T05:56:34.635784Z",
     "shell.execute_reply": "2024-02-25T05:56:34.635018Z",
     "shell.execute_reply.started": "2024-02-25T05:56:32.887722Z"
    },
    "tags": []
   },
   "outputs": [],
   "source": [
    "import pandas as pd\n",
    "import torch\n",
    "from torch_rechub.models.multi_task import SharedBottom, MMOE, PLE, AITM, fus_moe_add\n",
    "from torch_rechub.models.multi_task.mtl_lib import AdaTTSp\n",
    "from torch_rechub.trainers import MTLTrainer\n",
    "from torch_rechub.basic.features import DenseFeature, SparseFeature\n",
    "from torch_rechub.utils.data import DataGenerator\n",
    "from torch_rechub.single2fus import single2fus"
   ]
  },
  {
   "cell_type": "code",
   "execution_count": null,
   "id": "551744c1-c0ef-484d-ab74-a12f5a7587e3",
   "metadata": {
    "execution": {
     "iopub.execute_input": "2024-02-25T05:56:34.637393Z",
     "iopub.status.busy": "2024-02-25T05:56:34.637012Z",
     "iopub.status.idle": "2024-02-25T05:56:34.644155Z",
     "shell.execute_reply": "2024-02-25T05:56:34.643700Z",
     "shell.execute_reply.started": "2024-02-25T05:56:34.637366Z"
    },
    "tags": []
   },
   "outputs": [],
   "source": [
    "model_name = 'AdaTTSp' # select the model you want to train, 'fus_moe_add' is our method\n",
    "epoch = 100  #100\n",
    "learning_rate = 1e-3\n",
    "batch_size = 1024\n",
    "weight_decay = 1e-6\n",
    "save_dir = './save_dir'\n",
    "seed = 2024\n",
    "torch.manual_seed(seed) "
   ]
  },
  {
   "cell_type": "code",
   "execution_count": null,
   "id": "6a9458f0-ada0-4af8-a17a-90f7f16e67df",
   "metadata": {
    "execution": {
     "iopub.execute_input": "2024-02-25T05:56:34.645036Z",
     "iopub.status.busy": "2024-02-25T05:56:34.644813Z",
     "iopub.status.idle": "2024-02-25T05:56:34.727792Z",
     "shell.execute_reply": "2024-02-25T05:56:34.727260Z",
     "shell.execute_reply.started": "2024-02-25T05:56:34.645015Z"
    },
    "tags": []
   },
   "outputs": [],
   "source": [
    "device = 'cpu'\n",
    "if torch.cuda.is_available():\n",
    "    print('cuda ready...')\n",
    "    device = 'cuda:2'"
   ]
  },
  {
   "cell_type": "code",
   "execution_count": 4,
   "id": "9a83c91b-4b4a-47c0-a34c-cb72c73fead1",
   "metadata": {
    "execution": {
     "iopub.execute_input": "2024-02-25T05:56:34.729350Z",
     "iopub.status.busy": "2024-02-25T05:56:34.729123Z",
     "iopub.status.idle": "2024-02-25T05:56:34.740712Z",
     "shell.execute_reply": "2024-02-25T05:56:34.740271Z",
     "shell.execute_reply.started": "2024-02-25T05:56:34.729326Z"
    },
    "tags": []
   },
   "outputs": [],
   "source": [
    "def get_census_data_dict(model_name, data_path=\"data/census-income\"):\n",
    "    df_train = pd.read_csv(data_path + '/census_income_train.csv')\n",
    "    df_val = pd.read_csv(data_path + '/census_income_val.csv')\n",
    "    df_test = pd.read_csv(data_path + '/census_income_test.csv')\n",
    "    print(\"train : val : test = %d %d %d\" % (len(df_train), len(df_val), len(df_test)))\n",
    "    train_idx, val_idx = df_train.shape[0], df_train.shape[0] + df_val.shape[0]\n",
    "    data = pd.concat([df_train, df_val, df_test], axis=0)\n",
    "    data = data.fillna(0)\n",
    "    #task 1 (as cvr): main task, income prediction\n",
    "    #task 2(as ctr): auxiliary task, marital status prediction\n",
    "    data.rename(columns={'income': 'cvr_label', 'marital status': 'ctr_label'}, inplace=True)\n",
    "    data[\"ctcvr_label\"] = data['cvr_label'] * data['ctr_label']\n",
    "\n",
    "    col_names = data.columns.values.tolist()\n",
    "    dense_cols = ['age', 'wage per hour', 'capital gains', 'capital losses', 'divdends from stocks', 'num persons worked for employer', 'weeks worked in year']\n",
    "    sparse_cols = [col for col in col_names if col not in dense_cols and col not in ['cvr_label', 'ctr_label', 'ctcvr_label']]\n",
    "    print(\"sparse cols:%d dense cols:%d\" % (len(sparse_cols), len(dense_cols)))\n",
    "    #define dense and sparse features\n",
    "    label_cols = ['cvr_label', 'ctr_label']  #the order of labels can be any\n",
    "    used_cols = sparse_cols + dense_cols\n",
    "    features = [SparseFeature(col, data[col].max()+1, embed_dim=4)for col in sparse_cols] \\\n",
    "                + [DenseFeature(col) for col in dense_cols]\n",
    "    x_train, y_train = {name: data[name].values[:train_idx] for name in used_cols}, data[label_cols].values[:train_idx]\n",
    "    x_val, y_val = {name: data[name].values[train_idx:val_idx] for name in used_cols}, data[label_cols].values[train_idx:val_idx]\n",
    "    x_test, y_test = {name: data[name].values[val_idx:] for name in used_cols}, data[label_cols].values[val_idx:]\n",
    "    return features, x_train, y_train, x_val, y_val, x_test, y_test"
   ]
  },
  {
   "cell_type": "code",
   "execution_count": null,
   "id": "de9e93c3-f988-40df-95a1-96ee0e811c5a",
   "metadata": {
    "execution": {
     "iopub.execute_input": "2024-02-25T05:56:34.741581Z",
     "iopub.status.busy": "2024-02-25T05:56:34.741341Z",
     "iopub.status.idle": "2024-02-25T05:56:35.265782Z",
     "shell.execute_reply": "2024-02-25T05:56:35.265242Z",
     "shell.execute_reply.started": "2024-02-25T05:56:34.741564Z"
    },
    "tags": []
   },
   "outputs": [],
   "source": [
    "# Set model hyperparameters\n",
    "if model_name == \"SharedBottom\":\n",
    "    features, x_train, y_train, x_val, y_val, x_test, y_test = get_census_data_dict(model_name)\n",
    "    task_types = [\"classification\", \"classification\"]\n",
    "    model = SharedBottom(features, task_types, bottom_params={\"dims\": [16]}, tower_params_list=[{\"dims\": [8]}, {\"dims\": [8]}])\n",
    "elif model_name == \"MMOE\":\n",
    "    features, x_train, y_train, x_val, y_val, x_test, y_test = get_census_data_dict(model_name)\n",
    "    task_types = [\"classification\", \"classification\"]\n",
    "    model = MMOE(features, task_types, 12, expert_params={\"dims\": [16]}, tower_params_list=[{\"dims\": [8]}, {\"dims\": [8]}])\n",
    "elif model_name == \"PLE\":\n",
    "    features, x_train, y_train, x_val, y_val, x_test, y_test = get_census_data_dict(model_name)\n",
    "    task_types = [\"classification\", \"classification\"]\n",
    "    model = PLE(features, task_types, n_level=2, n_expert_specific=2, n_expert_shared=2, expert_params={\"dims\": [16]}, tower_params_list=[{\"dims\": [8]}, {\"dims\": [8]}])\n",
    "elif model_name == \"AITM\":\n",
    "    task_types = [\"classification\", \"classification\"]\n",
    "    features, x_train, y_train, x_val, y_val, x_test, y_test = get_census_data_dict(model_name)\n",
    "    model = AITM(features, 2, bottom_params={\"dims\": [16]}, tower_params_list=[{\"dims\": [8]}, {\"dims\": [8]}])\n",
    "elif model_name == \"AdaTTSp\":\n",
    "    task_types = [\"classification\", \"classification\"]\n",
    "    features, x_train, y_train, x_val, y_val, x_test, y_test = get_census_data_dict(model_name)\n",
    "    model = AdaTTSp(input_dim=features, expert_out_dims=[[16]], num_tasks=2, num_task_experts=12)\n",
    "elif model_name == \"fus_moe_add\":\n",
    "    task_types = [\"classification\", \"classification\"]\n",
    "    features, x_train, y_train, x_val, y_val, x_test, y_test = get_census_data_dict(model_name)\n",
    "    model = fus_moe_add(features, task_types, n_level=3, n_expert_specific=2, expert_params1 ={\"dims\": [8,8]}, expert_params2 ={\"dims\": [16,8]}, tower_params_list=[{\"dims\": [8]}, {\"dims\": [8]}])\n",
    "    "
   ]
  },
  {
   "cell_type": "code",
   "execution_count": 6,
   "id": "c64c9aa8",
   "metadata": {},
   "outputs": [],
   "source": [
    "if model_name == \"fus_moe_add\":\n",
    "    model_path = \"path/to/save_dir/single_model_name_1.pth\"\n",
    "    single_list = ['mlp1', 'mlp2', 'mlp3']\n",
    "    fus_list = ['cgc_layers.0.experts_specific.0','cgc_layers.1.experts_specific.0', 'cgc_layers.2.experts_specific.0']\n",
    "    single2fus(model_path, single_list, fus_list, model)\n",
    "\n",
    "    model_path = \"path/to/save_dir/single_model_name_2.pth\"\n",
    "    single_list = ['mlp1', 'mlp2', 'mlp3']\n",
    "    fus_list = ['cgc_layers.0.experts_specific.2','cgc_layers.1.experts_specific.2', 'cgc_layers.2.experts_specific.2']\n",
    "    single2fus(model_path, single_list, fus_list, model)\n",
    "\n",
    "    model_path = \"path/to/save_dir/single_model_name_3.pth\"\n",
    "    single_list = ['mlp1', 'mlp2', 'mlp3']\n",
    "    fus_list = ['cgc_layers.0.experts_specific.1','cgc_layers.1.experts_specific.1', 'cgc_layers.2.experts_specific.1']\n",
    "    single2fus(model_path, single_list, fus_list, model)\n",
    "\n",
    "    model_path = \"path/to/save_dir/single_model_name_4.pth\"\n",
    "    single_list = ['mlp1', 'mlp2', 'mlp3']\n",
    "    fus_list = ['cgc_layers.0.experts_specific.3','cgc_layers.1.experts_specific.3', 'cgc_layers.2.experts_specific.3']\n",
    "    single2fus(model_path, single_list, fus_list, model)"
   ]
  },
  {
   "cell_type": "code",
   "execution_count": 8,
   "id": "4122ca1b-2cd0-467b-a005-6cbb9e745115",
   "metadata": {
    "execution": {
     "iopub.execute_input": "2024-02-25T05:56:35.266621Z",
     "iopub.status.busy": "2024-02-25T05:56:35.266464Z",
     "iopub.status.idle": "2024-02-25T05:56:35.269771Z",
     "shell.execute_reply": "2024-02-25T05:56:35.269286Z",
     "shell.execute_reply.started": "2024-02-25T05:56:35.266599Z"
    },
    "tags": []
   },
   "outputs": [],
   "source": [
    "dg = DataGenerator(x_train, y_train)\n",
    "train_dataloader, val_dataloader, test_dataloader = dg.generate_dataloader(x_val=x_val, y_val=y_val, x_test=x_test, y_test=y_test, batch_size=batch_size)\n",
    "mtl_trainer = MTLTrainer(model, task_types=task_types, optimizer_params={\"lr\": learning_rate, \"weight_decay\": weight_decay}, n_epoch=epoch, earlystop_patience=50, device=device, model_path=save_dir)\n",
    "# started training\n",
    "file_path = 'path/to/save/output/result_{}_{}.txt'.format(model_name)\n",
    "mtl_trainer.fit(train_dataloader, val_dataloader, mode = 'mark1', seed = 'mark2', file_path = file_path)"
   ]
  },
  {
   "cell_type": "code",
   "execution_count": null,
   "id": "dccdd5b1-43c3-43a3-ad67-2ca038b46407",
   "metadata": {
    "execution": {
     "iopub.execute_input": "2024-02-25T06:00:55.592810Z",
     "iopub.status.busy": "2024-02-25T06:00:55.592617Z",
     "iopub.status.idle": "2024-02-25T06:00:56.569748Z",
     "shell.execute_reply": "2024-02-25T06:00:56.569222Z",
     "shell.execute_reply.started": "2024-02-25T06:00:55.592792Z"
    },
    "tags": []
   },
   "outputs": [],
   "source": [
    "auc = mtl_trainer.evaluate(mtl_trainer.model, test_dataloader)\n",
    "print(f'test auc: {auc}')\n",
    "\n",
    "epo = ['test_result']\n",
    "my_list = epo + auc\n",
    "my_list = ', '.join(map(str, my_list))\n",
    "\n",
    "try:\n",
    "    with open(file_path, 'a') as file:\n",
    "        file.write(my_list + '\\n')\n",
    "except Exception as e:  \n",
    "    print(f\"An error occurred while adding to the file: {e}\")"
   ]
  },
  {
   "cell_type": "code",
   "execution_count": null,
   "id": "09639126",
   "metadata": {},
   "outputs": [],
   "source": []
  }
 ],
 "metadata": {
  "kernelspec": {
   "display_name": "ZJX_CTR",
   "language": "python",
   "name": "python3"
  },
  "language_info": {
   "codemirror_mode": {
    "name": "ipython",
    "version": 3
   },
   "file_extension": ".py",
   "mimetype": "text/x-python",
   "name": "python",
   "nbconvert_exporter": "python",
   "pygments_lexer": "ipython3",
   "version": "3.9.18"
  }
 },
 "nbformat": 4,
 "nbformat_minor": 5
}
