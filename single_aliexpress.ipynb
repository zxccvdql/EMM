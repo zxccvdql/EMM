{
 "cells": [
  {
   "cell_type": "code",
   "execution_count": 1,
   "id": "e9988c09-6ab7-4200-8d38-e870ce7b5f19",
   "metadata": {
    "execution": {
     "iopub.execute_input": "2024-02-25T13:18:10.822893Z",
     "iopub.status.busy": "2024-02-25T13:18:10.822368Z",
     "iopub.status.idle": "2024-02-25T13:18:12.218243Z",
     "shell.execute_reply": "2024-02-25T13:18:12.217676Z",
     "shell.execute_reply.started": "2024-02-25T13:18:10.822848Z"
    },
    "tags": []
   },
   "outputs": [],
   "source": [
    "import pandas as pd\n",
    "import torch\n",
    "from torch_rechub.models.multi_task import single_task\n",
    "from torch_rechub.trainers import MTLTrainer\n",
    "from torch_rechub.basic.features import DenseFeature, SparseFeature\n",
    "from torch_rechub.utils.data import DataGenerator"
   ]
  },
  {
   "cell_type": "code",
   "execution_count": null,
   "id": "b26e67e6-ac7b-4c9a-9c34-2e29c0062632",
   "metadata": {
    "execution": {
     "iopub.execute_input": "2024-02-25T13:18:12.219639Z",
     "iopub.status.busy": "2024-02-25T13:18:12.219397Z",
     "iopub.status.idle": "2024-02-25T13:18:12.225301Z",
     "shell.execute_reply": "2024-02-25T13:18:12.224973Z",
     "shell.execute_reply.started": "2024-02-25T13:18:12.219619Z"
    },
    "tags": []
   },
   "outputs": [],
   "source": [
    "model_name = 'single_task'\n",
    "# data_path='/openbayes/input/input0'\n",
    "epoch = 3\n",
    "learning_rate = 1e-3\n",
    "batch_size = 32768\n",
    "weight_decay = 1e-5\n",
    "save_dir = './save_dir'\n",
    "seed = 2024\n",
    "gpus = None\n",
    "torch.manual_seed(seed)"
   ]
  },
  {
   "cell_type": "code",
   "execution_count": null,
   "id": "0140eee8-d550-4216-9756-6ca4da16b8ad",
   "metadata": {
    "execution": {
     "iopub.execute_input": "2024-02-25T13:18:12.225951Z",
     "iopub.status.busy": "2024-02-25T13:18:12.225774Z",
     "iopub.status.idle": "2024-02-25T13:18:12.472469Z",
     "shell.execute_reply": "2024-02-25T13:18:12.472017Z",
     "shell.execute_reply.started": "2024-02-25T13:18:12.225934Z"
    },
    "tags": []
   },
   "outputs": [],
   "source": [
    "device = 'cpu'\n",
    "if torch.cuda.is_available():\n",
    "    print('cuda ready...')\n",
    "    device = 'cuda:1'"
   ]
  },
  {
   "cell_type": "code",
   "execution_count": 4,
   "id": "35cce0f5-989e-4b72-92a6-958440dac680",
   "metadata": {
    "execution": {
     "iopub.execute_input": "2024-02-25T13:18:12.473249Z",
     "iopub.status.busy": "2024-02-25T13:18:12.473088Z",
     "iopub.status.idle": "2024-02-25T13:18:12.482258Z",
     "shell.execute_reply": "2024-02-25T13:18:12.481876Z",
     "shell.execute_reply.started": "2024-02-25T13:18:12.473230Z"
    },
    "tags": []
   },
   "outputs": [],
   "source": [
    "task_select = 0  #0: conversion, 1:click\n",
    "def get_aliexpress_data_dict(task_select = task_select, data_path='data/aliexpress'):\n",
    "    df_train = pd.read_csv(data_path + '/train.csv')\n",
    "    df_test = pd.read_csv(data_path + '/test.csv')\n",
    "    print(\"train : test = %d %d\" % (len(df_train), len(df_test)))\n",
    "    train_idx = df_train.shape[0]\n",
    "    data = pd.concat([df_train, df_test], axis=0)\n",
    "    col_names = data.columns.values.tolist()\n",
    "    sparse_cols = [name for name in col_names if name.startswith(\"categorical\")]  #categorical\n",
    "    \n",
    "    dense_cols = [name for name in col_names if name.startswith(\"numerical\")]  #numerical\n",
    "    print(\"sparse cols:%d dense cols:%d\" % (len(sparse_cols), len(dense_cols)))\n",
    "    label_cols = [\"conversion\", \"click\"]\n",
    "\n",
    "    label_col_single = [label_cols[task_select]]\n",
    "    \n",
    "    used_cols = sparse_cols + dense_cols\n",
    "    features = [SparseFeature(col, data[col].max()+1, embed_dim=5)for col in sparse_cols] \\\n",
    "                + [DenseFeature(col) for col in dense_cols]\n",
    "    x_train, y_train = {name: data[name].values[:train_idx] for name in used_cols}, data[label_col_single].values[:train_idx]\n",
    "    x_test, y_test = {name: data[name].values[train_idx:] for name in used_cols}, data[label_col_single].values[train_idx:]\n",
    "    return features, x_train, y_train, x_test, y_test"
   ]
  },
  {
   "cell_type": "code",
   "execution_count": null,
   "id": "f4a8812f-ec93-4b92-9688-b3243c048a03",
   "metadata": {
    "execution": {
     "iopub.execute_input": "2024-02-25T13:18:12.483022Z",
     "iopub.status.busy": "2024-02-25T13:18:12.482845Z",
     "iopub.status.idle": "2024-02-25T13:20:06.133248Z",
     "shell.execute_reply": "2024-02-25T13:20:06.132530Z",
     "shell.execute_reply.started": "2024-02-25T13:18:12.483004Z"
    },
    "tags": []
   },
   "outputs": [],
   "source": [
    "if model_name == \"single_task\":\n",
    "    task_types = [\"classification\"]\n",
    "    features, x_train, y_train, x_test, y_test = get_aliexpress_data_dict()\n",
    "    # Set model hyperparameters\n",
    "    model = single_task(features, task_types, hidden_units = {\"dims\": [128, 64]}, tower_params_list = {\"dims\": [32]})\n",
    "\n",
    "dg = DataGenerator(x_train, y_train)\n",
    "train_dataloader, val_dataloader, test_dataloader = dg.generate_dataloader(x_val=x_test, y_val=y_test, x_test=x_test, y_test=y_test, batch_size=batch_size)"
   ]
  },
  {
   "cell_type": "code",
   "execution_count": 7,
   "id": "ab937a1f-5c74-42d3-bdf3-c31c205641be",
   "metadata": {
    "execution": {
     "iopub.execute_input": "2024-02-25T13:20:06.138944Z",
     "iopub.status.busy": "2024-02-25T13:20:06.138755Z",
     "iopub.status.idle": "2024-02-25T13:20:06.678402Z",
     "shell.execute_reply": "2024-02-25T13:20:06.677827Z",
     "shell.execute_reply.started": "2024-02-25T13:20:06.138925Z"
    },
    "tags": []
   },
   "outputs": [],
   "source": [
    "# started training\n",
    "mtl_trainer = MTLTrainer(model, task_types=task_types, optimizer_params={\"lr\": learning_rate, \"weight_decay\": weight_decay}, n_epoch=epoch, earlystop_patience=10, device=device, gpus=gpus, model_path=save_dir)\n",
    "\n",
    "file_path = 'path/to/save/output/result_{}_{}.txt'.format(model_name, task_select)\n",
    "mtl_trainer.fit(train_dataloader, val_dataloader, mode = 'mark1', seed = 'mark2', file_path = file_path)"
   ]
  },
  {
   "cell_type": "code",
   "execution_count": null,
   "id": "e6e89b28-75a1-4f82-a21b-f3116e17dd86",
   "metadata": {
    "tags": []
   },
   "outputs": [],
   "source": [
    "auc = mtl_trainer.evaluate(mtl_trainer.model, test_dataloader)\n",
    "print(f'test auc: {auc}')\n",
    "\n",
    "epo = ['test_result']\n",
    "my_list = epo + auc\n",
    "my_list = ', '.join(map(str, my_list))\n",
    "\n",
    "try:\n",
    "    with open(file_path, 'a') as file:\n",
    "        file.write(my_list + '\\n')\n",
    "except Exception as e:  \n",
    "    print(f\"An error occurred while adding to the file: {e}\")"
   ]
  },
  {
   "cell_type": "code",
   "execution_count": null,
   "id": "6672052b",
   "metadata": {},
   "outputs": [],
   "source": []
  }
 ],
 "metadata": {
  "kernelspec": {
   "display_name": "Python [conda env:ZJX_CTR]",
   "language": "python",
   "name": "conda-env-ZJX_CTR-py"
  },
  "language_info": {
   "codemirror_mode": {
    "name": "ipython",
    "version": 3
   },
   "file_extension": ".py",
   "mimetype": "text/x-python",
   "name": "python",
   "nbconvert_exporter": "python",
   "pygments_lexer": "ipython3",
   "version": "3.9.18"
  }
 },
 "nbformat": 4,
 "nbformat_minor": 5
}
