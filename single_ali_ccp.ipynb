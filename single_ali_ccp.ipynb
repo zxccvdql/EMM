{
 "cells": [
  {
   "cell_type": "code",
   "execution_count": 1,
   "id": "e9988c09-6ab7-4200-8d38-e870ce7b5f19",
   "metadata": {
    "execution": {
     "iopub.execute_input": "2024-02-25T13:18:10.822893Z",
     "iopub.status.busy": "2024-02-25T13:18:10.822368Z",
     "iopub.status.idle": "2024-02-25T13:18:12.218243Z",
     "shell.execute_reply": "2024-02-25T13:18:12.217676Z",
     "shell.execute_reply.started": "2024-02-25T13:18:10.822848Z"
    },
    "tags": []
   },
   "outputs": [],
   "source": [
    "import pandas as pd\n",
    "import torch\n",
    "from torch_rechub.models.multi_task import single_task\n",
    "from torch_rechub.trainers import MTLTrainer\n",
    "from torch_rechub.basic.features import DenseFeature, SparseFeature\n",
    "from torch_rechub.utils.data import DataGenerator"
   ]
  },
  {
   "cell_type": "code",
   "execution_count": null,
   "id": "b26e67e6-ac7b-4c9a-9c34-2e29c0062632",
   "metadata": {
    "execution": {
     "iopub.execute_input": "2024-02-25T13:18:12.219639Z",
     "iopub.status.busy": "2024-02-25T13:18:12.219397Z",
     "iopub.status.idle": "2024-02-25T13:18:12.225301Z",
     "shell.execute_reply": "2024-02-25T13:18:12.224973Z",
     "shell.execute_reply.started": "2024-02-25T13:18:12.219619Z"
    },
    "tags": []
   },
   "outputs": [],
   "source": [
    "model_name = 'single_task'\n",
    "epoch = 10\n",
    "learning_rate = 1e-3\n",
    "batch_size = 32768\n",
    "weight_decay = 1e-5\n",
    "save_dir = './save_dir'\n",
    "seed = 2024\n",
    "gpus = None\n",
    "torch.manual_seed(seed)"
   ]
  },
  {
   "cell_type": "code",
   "execution_count": null,
   "id": "0140eee8-d550-4216-9756-6ca4da16b8ad",
   "metadata": {
    "execution": {
     "iopub.execute_input": "2024-02-25T13:18:12.225951Z",
     "iopub.status.busy": "2024-02-25T13:18:12.225774Z",
     "iopub.status.idle": "2024-02-25T13:18:12.472469Z",
     "shell.execute_reply": "2024-02-25T13:18:12.472017Z",
     "shell.execute_reply.started": "2024-02-25T13:18:12.225934Z"
    },
    "tags": []
   },
   "outputs": [],
   "source": [
    "device = 'cpu'\n",
    "if torch.cuda.is_available():\n",
    "    print('cuda ready...')\n",
    "    device = 'cuda:0'"
   ]
  },
  {
   "cell_type": "code",
   "execution_count": 4,
   "id": "35cce0f5-989e-4b72-92a6-958440dac680",
   "metadata": {
    "execution": {
     "iopub.execute_input": "2024-02-25T13:18:12.473249Z",
     "iopub.status.busy": "2024-02-25T13:18:12.473088Z",
     "iopub.status.idle": "2024-02-25T13:18:12.482258Z",
     "shell.execute_reply": "2024-02-25T13:18:12.481876Z",
     "shell.execute_reply.started": "2024-02-25T13:18:12.473230Z"
    },
    "tags": []
   },
   "outputs": [],
   "source": [
    "task_select = 0  #0: cvr, 1:ctr\n",
    "def get_ali_ccp_data_dict(model_name, task_select = task_select, data_path=\"data/ali-ccp\"):\n",
    "    df_train = pd.read_csv(data_path + '/ali_ccp_train.csv')\n",
    "    df_val = pd.read_csv(data_path + '/ali_ccp_val.csv')\n",
    "    df_test = pd.read_csv(data_path + '/ali_ccp_test.csv')\n",
    "    print(\"train : val : test = %d %d %d\" % (len(df_train), len(df_val), len(df_test)))\n",
    "    train_idx, val_idx = df_train.shape[0], df_train.shape[0] + df_val.shape[0]\n",
    "    data = pd.concat([df_train, df_val, df_test], axis=0)\n",
    "    #task 1 (as cvr): main task, purchase prediction\n",
    "    #task 2(as ctr): auxiliary task, click prediction\n",
    "    data.rename(columns={'purchase': 'cvr_label', 'click': 'ctr_label'}, inplace=True)\n",
    "    data[\"ctcvr_label\"] = data['cvr_label'] * data['ctr_label']\n",
    "\n",
    "    col_names = data.columns.values.tolist()\n",
    "    dense_cols = ['D109_14', 'D110_14', 'D127_14', 'D150_14', 'D508', 'D509', 'D702', 'D853']\n",
    "    sparse_cols = [col for col in col_names if col not in dense_cols and col not in ['cvr_label', 'ctr_label', 'ctcvr_label']]\n",
    "    print(\"sparse cols:%d dense cols:%d\" % (len(sparse_cols), len(dense_cols)))\n",
    "    #define dense and sparse features\n",
    "    if model_name == \"ESMM\":\n",
    "        label_cols = ['cvr_label', 'ctr_label', \"ctcvr_label\"]  #the order of 3 labels must fixed as this\n",
    "        #ESMM only for sparse features in origin paper\n",
    "        item_cols = ['129', '205', '206', '207', '210', '216']  #assumption features split for user and item\n",
    "        user_cols = [col for col in sparse_cols if col not in item_cols]\n",
    "        user_features = [SparseFeature(col, data[col].max() + 1, embed_dim=16) for col in user_cols]\n",
    "        item_features = [SparseFeature(col, data[col].max() + 1, embed_dim=16) for col in item_cols]\n",
    "        x_train, y_train = {name: data[name].values[:train_idx] for name in sparse_cols}, data[label_cols].values[:train_idx]\n",
    "        x_val, y_val = {name: data[name].values[train_idx:val_idx] for name in sparse_cols}, data[label_cols].values[train_idx:val_idx]\n",
    "        x_test, y_test = {name: data[name].values[val_idx:] for name in sparse_cols}, data[label_cols].values[val_idx:]\n",
    "        return user_features, item_features, x_train, y_train, x_val, y_val, x_test, y_test\n",
    "    else:\n",
    "        label_cols = ['cvr_label', 'ctr_label']  #the order of labels can be any\n",
    "        \n",
    "        label_col = [label_cols[task_select]]\n",
    "        \n",
    "        used_cols = sparse_cols + dense_cols\n",
    "        features = [SparseFeature(col, data[col].max()+1, embed_dim=4)for col in sparse_cols] \\\n",
    "                   + [DenseFeature(col) for col in dense_cols]\n",
    "        x_train, y_train = {name: data[name].values[:train_idx] for name in used_cols}, data[label_col].values[:train_idx]\n",
    "        x_val, y_val = {name: data[name].values[train_idx:val_idx] for name in used_cols}, data[label_col].values[train_idx:val_idx]\n",
    "        x_test, y_test = {name: data[name].values[val_idx:] for name in used_cols}, data[label_col].values[val_idx:]\n",
    "        return features, x_train, y_train, x_val, y_val, x_test, y_test"
   ]
  },
  {
   "cell_type": "code",
   "execution_count": null,
   "id": "f4a8812f-ec93-4b92-9688-b3243c048a03",
   "metadata": {
    "execution": {
     "iopub.execute_input": "2024-02-25T13:18:12.483022Z",
     "iopub.status.busy": "2024-02-25T13:18:12.482845Z",
     "iopub.status.idle": "2024-02-25T13:20:06.133248Z",
     "shell.execute_reply": "2024-02-25T13:20:06.132530Z",
     "shell.execute_reply.started": "2024-02-25T13:18:12.483004Z"
    },
    "tags": []
   },
   "outputs": [],
   "source": [
    "if model_name == \"single_task\":\n",
    "    task_type = \"classification\"\n",
    "    features, x_train, y_train, x_val, y_val, x_test, y_test = get_ali_ccp_data_dict(model_name)\n",
    "    # Set model hyperparameters\n",
    "    model = single_task(features, task_type, hidden_units = {\"dims\": [256,64]}, tower_params_list = {\"dims\": [32]})\n",
    "dg = DataGenerator(x_train, y_train)\n",
    "train_dataloader, val_dataloader, test_dataloader = dg.generate_dataloader(x_val=x_val, y_val=y_val, x_test=x_test, y_test=y_test, batch_size=batch_size)"
   ]
  },
  {
   "cell_type": "code",
   "execution_count": 7,
   "id": "ab937a1f-5c74-42d3-bdf3-c31c205641be",
   "metadata": {
    "execution": {
     "iopub.execute_input": "2024-02-25T13:20:06.138944Z",
     "iopub.status.busy": "2024-02-25T13:20:06.138755Z",
     "iopub.status.idle": "2024-02-25T13:20:06.678402Z",
     "shell.execute_reply": "2024-02-25T13:20:06.677827Z",
     "shell.execute_reply.started": "2024-02-25T13:20:06.138925Z"
    },
    "tags": []
   },
   "outputs": [],
   "source": [
    "mtl_trainer = MTLTrainer(model, task_types=[task_type], optimizer_params={\"lr\": learning_rate, \"weight_decay\": weight_decay}, n_epoch=epoch, earlystop_patience=10, device=device, gpus=gpus, model_path=save_dir)\n",
    "# started training\n",
    "file_path = 'path/to/save/output/result_{}_{}.txt'.format(model_name, task_select)\n",
    "mtl_trainer.fit(train_dataloader, val_dataloader, mode = 'mark1', seed = 'mark2', file_path = file_path)"
   ]
  },
  {
   "cell_type": "code",
   "execution_count": null,
   "id": "e6e89b28-75a1-4f82-a21b-f3116e17dd86",
   "metadata": {
    "tags": []
   },
   "outputs": [],
   "source": [
    "auc = mtl_trainer.evaluate(mtl_trainer.model, test_dataloader)\n",
    "print(f'test auc: {auc}')\n",
    "\n",
    "epo = ['test_result']\n",
    "my_list = epo + auc\n",
    "my_list = ', '.join(map(str, my_list))\n",
    "\n",
    "try:\n",
    "    with open(file_path, 'a') as file:\n",
    "        file.write(my_list + '\\n')\n",
    "except Exception as e:  \n",
    "    print(f\"An error occurred while adding to the file: {e}\")"
   ]
  },
  {
   "cell_type": "code",
   "execution_count": null,
   "id": "6672052b",
   "metadata": {},
   "outputs": [],
   "source": []
  }
 ],
 "metadata": {
  "kernelspec": {
   "display_name": "Python [conda env:ZJX_CTR]",
   "language": "python",
   "name": "conda-env-ZJX_CTR-py"
  },
  "language_info": {
   "codemirror_mode": {
    "name": "ipython",
    "version": 3
   },
   "file_extension": ".py",
   "mimetype": "text/x-python",
   "name": "python",
   "nbconvert_exporter": "python",
   "pygments_lexer": "ipython3",
   "version": "3.9.18"
  }
 },
 "nbformat": 4,
 "nbformat_minor": 5
}
