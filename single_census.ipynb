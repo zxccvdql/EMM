{
 "cells": [
  {
   "cell_type": "code",
   "execution_count": 1,
   "id": "d2cebdf9-d323-4ae5-b7d1-b56484cc2e0e",
   "metadata": {
    "execution": {
     "iopub.execute_input": "2024-02-25T14:17:07.342601Z",
     "iopub.status.busy": "2024-02-25T14:17:07.341778Z",
     "iopub.status.idle": "2024-02-25T14:17:08.586852Z",
     "shell.execute_reply": "2024-02-25T14:17:08.586171Z",
     "shell.execute_reply.started": "2024-02-25T14:17:07.342556Z"
    },
    "tags": []
   },
   "outputs": [],
   "source": [
    "import pandas as pd\n",
    "import torch\n",
    "from torch_rechub.models.multi_task import single_task\n",
    "from torch_rechub.trainers import MTLTrainer\n",
    "from torch_rechub.basic.features import DenseFeature, SparseFeature\n",
    "from torch_rechub.utils.data import DataGenerator"
   ]
  },
  {
   "cell_type": "code",
   "execution_count": null,
   "id": "551744c1-c0ef-484d-ab74-a12f5a7587e3",
   "metadata": {
    "execution": {
     "iopub.execute_input": "2024-02-25T14:17:08.588234Z",
     "iopub.status.busy": "2024-02-25T14:17:08.588015Z",
     "iopub.status.idle": "2024-02-25T14:17:08.595494Z",
     "shell.execute_reply": "2024-02-25T14:17:08.594996Z",
     "shell.execute_reply.started": "2024-02-25T14:17:08.588215Z"
    },
    "tags": []
   },
   "outputs": [],
   "source": [
    "model_name = 'single_task'\n",
    "epoch = 100  \n",
    "learning_rate = 1e-3\n",
    "batch_size = 1024\n",
    "weight_decay = 1e-6\n",
    "save_dir = './save_dir'\n",
    "seed = 2024\n",
    "torch.manual_seed(seed)"
   ]
  },
  {
   "cell_type": "code",
   "execution_count": null,
   "id": "6a9458f0-ada0-4af8-a17a-90f7f16e67df",
   "metadata": {
    "execution": {
     "iopub.execute_input": "2024-02-25T14:17:08.596257Z",
     "iopub.status.busy": "2024-02-25T14:17:08.596110Z",
     "iopub.status.idle": "2024-02-25T14:17:08.679241Z",
     "shell.execute_reply": "2024-02-25T14:17:08.678643Z",
     "shell.execute_reply.started": "2024-02-25T14:17:08.596240Z"
    },
    "tags": []
   },
   "outputs": [],
   "source": [
    "device = 'cpu'\n",
    "if torch.cuda.is_available():\n",
    "    print('cuda ready...')\n",
    "    device = 'cuda:0'"
   ]
  },
  {
   "cell_type": "code",
   "execution_count": 4,
   "id": "9a83c91b-4b4a-47c0-a34c-cb72c73fead1",
   "metadata": {
    "execution": {
     "iopub.execute_input": "2024-02-25T14:17:08.680229Z",
     "iopub.status.busy": "2024-02-25T14:17:08.679900Z",
     "iopub.status.idle": "2024-02-25T14:17:08.689239Z",
     "shell.execute_reply": "2024-02-25T14:17:08.688760Z",
     "shell.execute_reply.started": "2024-02-25T14:17:08.680210Z"
    },
    "tags": []
   },
   "outputs": [],
   "source": [
    "task_select = 0  #0: cvr, 1:ctr\n",
    "def get_census_data_dict(model_name, task_select = task_select, data_path=\"data/census-income\"):\n",
    "    df_train = pd.read_csv(data_path + '/census_income_train.csv')\n",
    "    df_val = pd.read_csv(data_path + '/census_income_val.csv')\n",
    "    df_test = pd.read_csv(data_path + '/census_income_test.csv')\n",
    "    print(\"train : val : test = %d %d %d\" % (len(df_train), len(df_val), len(df_test)))\n",
    "    train_idx, val_idx = df_train.shape[0], df_train.shape[0] + df_val.shape[0]\n",
    "    data = pd.concat([df_train, df_val, df_test], axis=0)\n",
    "    data = data.fillna(0)\n",
    "    #task 1 (as cvr): main task, income prediction\n",
    "    #task 2(as ctr): auxiliary task, marital status prediction\n",
    "    data.rename(columns={'income': 'cvr_label', 'marital status': 'ctr_label'}, inplace=True)\n",
    "    data[\"ctcvr_label\"] = data['cvr_label'] * data['ctr_label']\n",
    "\n",
    "    col_names = data.columns.values.tolist()\n",
    "    dense_cols = ['age', 'wage per hour', 'capital gains', 'capital losses', 'divdends from stocks', 'num persons worked for employer', 'weeks worked in year']\n",
    "    sparse_cols = [col for col in col_names if col not in dense_cols and col not in ['cvr_label', 'ctr_label', 'ctcvr_label']]\n",
    "    print(\"sparse cols:%d dense cols:%d\" % (len(sparse_cols), len(dense_cols)))\n",
    "    #define dense and sparse features\n",
    "    if model_name == \"ESMM\":\n",
    "        label_cols = ['cvr_label', 'ctr_label', \"ctcvr_label\"]  #the order of 3 labels must fixed as this\n",
    "        #ESMM only for sparse features in origin paper\n",
    "        user_cols = ['industry code', 'occupation code', 'race', 'education', 'sex']  #assumption features split for user and item\n",
    "        item_cols = [col for col in sparse_cols if col not in user_cols]\n",
    "        user_features = [SparseFeature(col, data[col].max() + 1, embed_dim=16) for col in user_cols]\n",
    "        item_features = [SparseFeature(col, data[col].max() + 1, embed_dim=16) for col in item_cols]\n",
    "        x_train, y_train = {name: data[name].values[:train_idx] for name in sparse_cols}, data[label_cols].values[:train_idx]\n",
    "        x_val, y_val = {name: data[name].values[train_idx:val_idx] for name in sparse_cols}, data[label_cols].values[train_idx:val_idx]\n",
    "        x_test, y_test = {name: data[name].values[val_idx:] for name in sparse_cols}, data[label_cols].values[val_idx:]\n",
    "        return user_features, item_features, x_train, y_train, x_val, y_val, x_test, y_test\n",
    "    else:\n",
    "        label_cols = ['cvr_label', 'ctr_label']  #the order of labels can be any\n",
    "        \n",
    "        label_col = [label_cols[task_select]]\n",
    "        used_cols = sparse_cols + dense_cols\n",
    "        features = [SparseFeature(col, data[col].max()+1, embed_dim=4)for col in sparse_cols] \\\n",
    "                   + [DenseFeature(col) for col in dense_cols]\n",
    "        x_train, y_train = {name: data[name].values[:train_idx] for name in used_cols}, data[label_col].values[:train_idx]\n",
    "        x_val, y_val = {name: data[name].values[train_idx:val_idx] for name in used_cols}, data[label_col].values[train_idx:val_idx]\n",
    "        x_test, y_test = {name: data[name].values[val_idx:] for name in used_cols}, data[label_col].values[val_idx:]\n",
    "        return features, x_train, y_train, x_val, y_val, x_test, y_test"
   ]
  },
  {
   "cell_type": "code",
   "execution_count": null,
   "id": "de9e93c3-f988-40df-95a1-96ee0e811c5a",
   "metadata": {
    "execution": {
     "iopub.execute_input": "2024-02-25T14:17:08.691317Z",
     "iopub.status.busy": "2024-02-25T14:17:08.690497Z",
     "iopub.status.idle": "2024-02-25T14:17:09.137411Z",
     "shell.execute_reply": "2024-02-25T14:17:09.136293Z",
     "shell.execute_reply.started": "2024-02-25T14:17:08.691298Z"
    },
    "tags": []
   },
   "outputs": [],
   "source": [
    "if model_name == \"single_task\":\n",
    "    task_type = \"classification\"\n",
    "    features, x_train, y_train, x_val, y_val, x_test, y_test = get_census_data_dict(model_name)\n",
    "    # Set model hyperparameters\n",
    "    model = single_task(features, task_type, hidden_units = {\"dims\": [16,8]}, tower_params_list = {\"dims\": [8]})\n",
    "dg = DataGenerator(x_train, y_train)\n",
    "train_dataloader, val_dataloader, test_dataloader = dg.generate_dataloader(x_val=x_val, y_val=y_val, x_test=x_test, y_test=y_test, batch_size=batch_size)"
   ]
  },
  {
   "cell_type": "code",
   "execution_count": null,
   "id": "991354de-2a35-4657-a867-fbf289b28b69",
   "metadata": {
    "execution": {
     "iopub.execute_input": "2024-02-25T14:17:09.887711Z",
     "iopub.status.busy": "2024-02-25T14:17:09.887551Z",
     "iopub.status.idle": "2024-02-25T14:21:10.205624Z",
     "shell.execute_reply": "2024-02-25T14:21:10.204887Z",
     "shell.execute_reply.started": "2024-02-25T14:17:09.887693Z"
    },
    "scrolled": true,
    "tags": []
   },
   "outputs": [],
   "source": [
    "# started training\n",
    "mtl_trainer = MTLTrainer(model, task_types=[task_type], optimizer_params={\"lr\": learning_rate, \"weight_decay\": weight_decay}, n_epoch=epoch, earlystop_patience=50, device=device, model_path=save_dir)\n",
    "file_path = 'path/to/save/output/result_{}_{}.txt'.format(model_name, task_select)\n",
    "mtl_trainer.fit(train_dataloader, val_dataloader, mode = 'mark1', seed = 'mark2', file_path = file_path)"
   ]
  },
  {
   "cell_type": "code",
   "execution_count": null,
   "id": "dccdd5b1-43c3-43a3-ad67-2ca038b46407",
   "metadata": {
    "execution": {
     "iopub.execute_input": "2024-02-25T14:21:10.206679Z",
     "iopub.status.busy": "2024-02-25T14:21:10.206515Z",
     "iopub.status.idle": "2024-02-25T14:21:11.305324Z",
     "shell.execute_reply": "2024-02-25T14:21:11.304523Z",
     "shell.execute_reply.started": "2024-02-25T14:21:10.206660Z"
    },
    "tags": []
   },
   "outputs": [],
   "source": [
    "auc = mtl_trainer.evaluate(mtl_trainer.model, test_dataloader)\n",
    "print(f'test auc: {auc}')\n",
    "\n",
    "epo = ['test_result']\n",
    "my_list = epo + auc\n",
    "my_list = ', '.join(map(str, my_list))\n",
    "\n",
    "try:\n",
    "    with open(file_path, 'a') as file:\n",
    "        file.write(my_list + '\\n')\n",
    "except Exception as e:  \n",
    "    print(f\"An error occurred while adding to the file: {e}\")"
   ]
  }
 ],
 "metadata": {
  "kernelspec": {
   "display_name": "Python 3 (ipykernel)",
   "language": "python",
   "name": "python3"
  },
  "language_info": {
   "codemirror_mode": {
    "name": "ipython",
    "version": 3
   },
   "file_extension": ".py",
   "mimetype": "text/x-python",
   "name": "python",
   "nbconvert_exporter": "python",
   "pygments_lexer": "ipython3",
   "version": "3.9.18"
  }
 },
 "nbformat": 4,
 "nbformat_minor": 5
}
