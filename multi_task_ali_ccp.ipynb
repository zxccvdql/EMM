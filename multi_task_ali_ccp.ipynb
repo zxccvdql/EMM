{
 "cells": [
  {
   "cell_type": "code",
   "execution_count": 1,
   "id": "e9988c09-6ab7-4200-8d38-e870ce7b5f19",
   "metadata": {
    "execution": {
     "iopub.execute_input": "2024-02-25T13:18:10.822893Z",
     "iopub.status.busy": "2024-02-25T13:18:10.822368Z",
     "iopub.status.idle": "2024-02-25T13:18:12.218243Z",
     "shell.execute_reply": "2024-02-25T13:18:12.217676Z",
     "shell.execute_reply.started": "2024-02-25T13:18:10.822848Z"
    },
    "tags": []
   },
   "outputs": [],
   "source": [
    "import pandas as pd\n",
    "import torch\n",
    "from torch_rechub.models.multi_task import SharedBottom, MMOE, PLE, AITM, fus_moe_add\n",
    "from torch_rechub.trainers import MTLTrainer\n",
    "from torch_rechub.basic.features import DenseFeature, SparseFeature\n",
    "from torch_rechub.utils.data import DataGenerator\n",
    "from torch_rechub.single2fus_ali import single2fus_ali\n",
    "from torch_rechub.models.multi_task.mtl_lib import AdaTTSp"
   ]
  },
  {
   "cell_type": "code",
   "execution_count": null,
   "id": "b26e67e6-ac7b-4c9a-9c34-2e29c0062632",
   "metadata": {
    "execution": {
     "iopub.execute_input": "2024-02-25T13:18:12.219639Z",
     "iopub.status.busy": "2024-02-25T13:18:12.219397Z",
     "iopub.status.idle": "2024-02-25T13:18:12.225301Z",
     "shell.execute_reply": "2024-02-25T13:18:12.224973Z",
     "shell.execute_reply.started": "2024-02-25T13:18:12.219619Z"
    },
    "tags": []
   },
   "outputs": [],
   "source": [
    "model_name = 'AdaTTSp' # select the model you want to train, 'fus_moe_add' is our method\n",
    "epoch = 10\n",
    "learning_rate = 1e-3\n",
    "batch_size = 32768\n",
    "weight_decay = 1e-5\n",
    "save_dir = './save_dir'\n",
    "seed = 2024\n",
    "gpus = None\n",
    "torch.manual_seed(seed)"
   ]
  },
  {
   "cell_type": "code",
   "execution_count": null,
   "id": "0140eee8-d550-4216-9756-6ca4da16b8ad",
   "metadata": {
    "execution": {
     "iopub.execute_input": "2024-02-25T13:18:12.225951Z",
     "iopub.status.busy": "2024-02-25T13:18:12.225774Z",
     "iopub.status.idle": "2024-02-25T13:18:12.472469Z",
     "shell.execute_reply": "2024-02-25T13:18:12.472017Z",
     "shell.execute_reply.started": "2024-02-25T13:18:12.225934Z"
    },
    "tags": []
   },
   "outputs": [],
   "source": [
    "device = 'cpu'\n",
    "if torch.cuda.is_available():\n",
    "    print('cuda ready...')\n",
    "    device = 'cuda:0'"
   ]
  },
  {
   "cell_type": "code",
   "execution_count": 4,
   "id": "35cce0f5-989e-4b72-92a6-958440dac680",
   "metadata": {
    "execution": {
     "iopub.execute_input": "2024-02-25T13:18:12.473249Z",
     "iopub.status.busy": "2024-02-25T13:18:12.473088Z",
     "iopub.status.idle": "2024-02-25T13:18:12.482258Z",
     "shell.execute_reply": "2024-02-25T13:18:12.481876Z",
     "shell.execute_reply.started": "2024-02-25T13:18:12.473230Z"
    },
    "tags": []
   },
   "outputs": [],
   "source": [
    "def get_ali_ccp_data_dict(model_name, data_path=\"data/ali-ccp\"):\n",
    "    df_train = pd.read_csv(data_path + '/ali_ccp_train.csv')\n",
    "    df_val = pd.read_csv(data_path + '/ali_ccp_val.csv')\n",
    "    df_test = pd.read_csv(data_path + '/ali_ccp_test.csv')\n",
    "    print(\"train : val : test = %d %d %d\" % (len(df_train), len(df_val), len(df_test)))\n",
    "    train_idx, val_idx = df_train.shape[0], df_train.shape[0] + df_val.shape[0]\n",
    "    data = pd.concat([df_train, df_val, df_test], axis=0)\n",
    "    #task 1 (as cvr): main task, purchase prediction\n",
    "    #task 2(as ctr): auxiliary task, click prediction\n",
    "    data.rename(columns={'purchase': 'cvr_label', 'click': 'ctr_label'}, inplace=True)\n",
    "    data[\"ctcvr_label\"] = data['cvr_label'] * data['ctr_label']\n",
    "\n",
    "    col_names = data.columns.values.tolist()\n",
    "    dense_cols = ['D109_14', 'D110_14', 'D127_14', 'D150_14', 'D508', 'D509', 'D702', 'D853']\n",
    "    sparse_cols = [col for col in col_names if col not in dense_cols and col not in ['cvr_label', 'ctr_label', 'ctcvr_label']]\n",
    "    print(\"sparse cols:%d dense cols:%d\" % (len(sparse_cols), len(dense_cols)))\n",
    "    #define dense and sparse features\n",
    "    label_cols = ['cvr_label', 'ctr_label']  #the order of labels can be any\n",
    "    used_cols = sparse_cols + dense_cols\n",
    "    features = [SparseFeature(col, data[col].max()+1, embed_dim=4)for col in sparse_cols] \\\n",
    "                + [DenseFeature(col) for col in dense_cols]\n",
    "    x_train, y_train = {name: data[name].values[:train_idx] for name in used_cols}, data[label_cols].values[:train_idx]\n",
    "    x_val, y_val = {name: data[name].values[train_idx:val_idx] for name in used_cols}, data[label_cols].values[train_idx:val_idx]\n",
    "    x_test, y_test = {name: data[name].values[val_idx:] for name in used_cols}, data[label_cols].values[val_idx:]\n",
    "    return features, x_train, y_train, x_val, y_val, x_test, y_test"
   ]
  },
  {
   "cell_type": "code",
   "execution_count": null,
   "id": "f4a8812f-ec93-4b92-9688-b3243c048a03",
   "metadata": {
    "execution": {
     "iopub.execute_input": "2024-02-25T13:18:12.483022Z",
     "iopub.status.busy": "2024-02-25T13:18:12.482845Z",
     "iopub.status.idle": "2024-02-25T13:20:06.133248Z",
     "shell.execute_reply": "2024-02-25T13:20:06.132530Z",
     "shell.execute_reply.started": "2024-02-25T13:18:12.483004Z"
    },
    "tags": []
   },
   "outputs": [],
   "source": [
    "# Set model hyperparameters\n",
    "if model_name == \"SharedBottom\":\n",
    "    features, x_train, y_train, x_val, y_val, x_test, y_test = get_ali_ccp_data_dict(model_name)\n",
    "    task_types = [\"classification\", \"classification\"]\n",
    "    model = SharedBottom(features, task_types, bottom_params={\"dims\": [128,64]}, tower_params_list=[{\"dims\": [32]}, {\"dims\": [32]}])\n",
    "elif model_name == \"MMOE\":\n",
    "    features, x_train, y_train, x_val, y_val, x_test, y_test = get_ali_ccp_data_dict(model_name)\n",
    "    task_types = [\"classification\", \"classification\"]\n",
    "    model = MMOE(features, task_types, 12, expert_params={\"dims\": [128,64]}, tower_params_list=[{\"dims\": [32]}, {\"dims\": [32]}])\n",
    "elif model_name == \"PLE\":\n",
    "    features, x_train, y_train, x_val, y_val, x_test, y_test = get_ali_ccp_data_dict(model_name)\n",
    "    task_types = [\"classification\", \"classification\"]\n",
    "    model = PLE(features, task_types, n_level=2, n_expert_specific=2, n_expert_shared=2, expert_params={\"dims\": [128,64]}, tower_params_list=[{\"dims\": [32]}, {\"dims\": [32]}])\n",
    "elif model_name == \"AITM\":\n",
    "    task_types = [\"classification\", \"classification\"]\n",
    "    features, x_train, y_train, x_val, y_val, x_test, y_test = get_ali_ccp_data_dict(model_name)\n",
    "    model = AITM(features, 2, bottom_params={\"dims\": [128,64]}, tower_params_list=[{\"dims\": [32]}, {\"dims\": [32]}])\n",
    "elif model_name == \"AdaTTSp\":\n",
    "    task_types = [\"classification\", \"classification\"]\n",
    "    features, x_train, y_train, x_val, y_val, x_test, y_test = get_ali_ccp_data_dict(model_name)\n",
    "    model = AdaTTSp(input_dim=features, expert_out_dims=[[128,64]], num_tasks=2, num_task_experts=12)\n",
    "elif model_name == \"fus_moe_add\":\n",
    "    task_types = [\"classification\", \"classification\"]\n",
    "    features, x_train, y_train, x_val, y_val, x_test, y_test = get_ali_ccp_data_dict(model_name)\n",
    "    model = fus_moe_add(features, task_types, n_level=3, n_expert_specific=2, expert_params1 ={\"dims\": [128,64]}, expert_params2 ={\"dims\": [256,64]}, tower_params_list=[{\"dims\": [32]}, {\"dims\": [32]}])"
   ]
  },
  {
   "cell_type": "code",
   "execution_count": 6,
   "id": "66578172",
   "metadata": {},
   "outputs": [],
   "source": [
    "if model_name == \"fus_moe_add\":\n",
    "    model_path = \"path/to/save_dir/single_model_name_1.pth\"\n",
    "    single_list = ['mlp1', 'mlp2', 'mlp3']\n",
    "    fus_list = ['cgc_layers.0.experts_specific.0','cgc_layers.1.experts_specific.0', 'cgc_layers.2.experts_specific.0']\n",
    "    single2fus_ali(model_path, single_list, fus_list, model)\n",
    "\n",
    "    model_path = \"path/to/save_dir/single_model_name_2.pth\"\n",
    "    single_list = ['mlp1', 'mlp2', 'mlp3']\n",
    "    fus_list = ['cgc_layers.0.experts_specific.2','cgc_layers.1.experts_specific.2', 'cgc_layers.2.experts_specific.2']\n",
    "    single2fus_ali(model_path, single_list, fus_list, model)\n",
    "\n",
    "    model_path = \"path/to/save_dir/single_model_name_3.pth\"\n",
    "    single_list = ['mlp1', 'mlp2', 'mlp3']\n",
    "    fus_list = ['cgc_layers.0.experts_specific.1','cgc_layers.1.experts_specific.1', 'cgc_layers.2.experts_specific.1']\n",
    "    single2fus_ali(model_path, single_list, fus_list, model)\n",
    "\n",
    "    model_path = \"path/to/save_dir/single_model_name_4.pth\"\n",
    "    single_list = ['mlp1', 'mlp2', 'mlp3']\n",
    "    fus_list = ['cgc_layers.0.experts_specific.3','cgc_layers.1.experts_specific.3', 'cgc_layers.2.experts_specific.3']\n",
    "    single2fus_ali(model_path, single_list, fus_list, model)"
   ]
  },
  {
   "cell_type": "code",
   "execution_count": 8,
   "id": "673171f5-0532-4406-b368-b029e49aae68",
   "metadata": {
    "execution": {
     "iopub.execute_input": "2024-02-25T13:20:06.134167Z",
     "iopub.status.busy": "2024-02-25T13:20:06.133955Z",
     "iopub.status.idle": "2024-02-25T13:20:06.137471Z",
     "shell.execute_reply": "2024-02-25T13:20:06.137076Z",
     "shell.execute_reply.started": "2024-02-25T13:20:06.134144Z"
    },
    "tags": []
   },
   "outputs": [],
   "source": [
    "dg = DataGenerator(x_train, y_train)\n",
    "train_dataloader, val_dataloader, test_dataloader = dg.generate_dataloader(x_val=x_val, y_val=y_val, x_test=x_test, y_test=y_test, batch_size=batch_size)\n",
    "mtl_trainer = MTLTrainer(model, task_types=task_types, optimizer_params={\"lr\": learning_rate, \"weight_decay\": weight_decay}, n_epoch=epoch, earlystop_patience=5, device=device, gpus=gpus, model_path=save_dir)\n",
    "# started training\n",
    "file_path = 'path/to/save/output/result_{}_{}.txt'.format(model_name)\n",
    "mtl_trainer.fit(train_dataloader, val_dataloader, mode = '{}'.format(model_name), seed = '', file_path = file_path)"
   ]
  },
  {
   "cell_type": "code",
   "execution_count": null,
   "id": "e6e89b28-75a1-4f82-a21b-f3116e17dd86",
   "metadata": {
    "tags": []
   },
   "outputs": [],
   "source": [
    "auc = mtl_trainer.evaluate(mtl_trainer.model, test_dataloader)\n",
    "print(f'test auc: {auc}')\n",
    "\n",
    "epo = ['test_result']\n",
    "my_list = epo + auc\n",
    "my_list = ', '.join(map(str, my_list))\n",
    "\n",
    "try:\n",
    "    with open(file_path, 'a') as file:\n",
    "        file.write(my_list + '\\n')\n",
    "except Exception as e:  \n",
    "    print(f\"An error occurred while adding to the file: {e}\")"
   ]
  }
 ],
 "metadata": {
  "kernelspec": {
   "display_name": "Python [conda env:ZJX_CTR]",
   "language": "python",
   "name": "conda-env-ZJX_CTR-py"
  },
  "language_info": {
   "codemirror_mode": {
    "name": "ipython",
    "version": 3
   },
   "file_extension": ".py",
   "mimetype": "text/x-python",
   "name": "python",
   "nbconvert_exporter": "python",
   "pygments_lexer": "ipython3",
   "version": "3.9.18"
  }
 },
 "nbformat": 4,
 "nbformat_minor": 5
}
